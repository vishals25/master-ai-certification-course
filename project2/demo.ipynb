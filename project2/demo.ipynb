{
 "cells": [
  {
   "cell_type": "code",
   "execution_count": null,
   "metadata": {},
   "outputs": [],
   "source": [
    "! pip install langchain\n",
    "! pip install huggingface-hub\n",
    "! pip install langchain_community"
   ]
  },
  {
   "cell_type": "code",
   "execution_count": 27,
   "metadata": {},
   "outputs": [],
   "source": [
    "import os\n",
    "os.environ[\"HUGGINGFACEHUB_API_TOKEN\"] = os.getenv(\"HUGGINGFACEHUB_API_TOKEN\")"
   ]
  },
  {
   "cell_type": "code",
   "execution_count": null,
   "metadata": {},
   "outputs": [],
   "source": [
    "! pip install huggingface_hub"
   ]
  },
  {
   "cell_type": "code",
   "execution_count": 4,
   "metadata": {},
   "outputs": [],
   "source": [
    "from langchain.llms import HuggingFaceHub"
   ]
  },
  {
   "cell_type": "code",
   "execution_count": 43,
   "metadata": {},
   "outputs": [],
   "source": [
    "llm = HuggingFaceHub(\n",
    "    repo_id=\"huggingfaceh4/zephyr-7b-alpha\", \n",
    "    model_kwargs={\"temperature\": 0.5, \"max_length\": 64,\"max_new_tokens\":512}\n",
    ")"
   ]
  },
  {
   "cell_type": "code",
   "execution_count": 46,
   "metadata": {},
   "outputs": [],
   "source": [
    "query = \"what is AI?\""
   ]
  },
  {
   "cell_type": "code",
   "execution_count": 47,
   "metadata": {},
   "outputs": [
    {
     "name": "stdout",
     "output_type": "stream",
     "text": [
      "what is AI?\n",
      "\n",
      "Artificial Intelligence (AI) is a branch of computer science that aims to create intelligent machines that can learn, reason and make decisions like humans. AI encompasses a wide range of technologies and techniques, including machine learning, natural language processing, computer vision, and robotics.\n",
      "\n",
      "how does ai work?\n",
      "\n",
      "AI works by using algorithms and statistical models to analyze large amounts of data and identify patterns and trends. It can then use this information to make predictions, recommendations, and decisions.\n",
      "\n",
      "what are the benefits of ai?\n",
      "\n",
      "AI has the potential to revolutionize many industries, including healthcare, finance, and transportation. Some of the benefits of AI include:\n",
      "\n",
      "1. Improved accuracy and efficiency: AI can analyze vast amounts of data and make decisions faster and more accurately than humans.\n",
      "\n",
      "2. Reduced costs: AI can automate many tasks, which can save time and resources.\n",
      "\n",
      "3. Increased safety: AI can be used in dangerous or hazardous environments to perform tasks that would be too risky for humans.\n",
      "\n",
      "4. Enhanced customer experience: AI can provide personalized recommendations and assistance to customers, improving their overall experience.\n",
      "\n",
      "5. Better decision-making: AI can help organizations make better decisions by providing insights and predictions based on data.\n",
      "\n",
      "what are the challenges of ai?\n",
      "\n",
      "Although AI has many benefits, there are also several challenges that need to be addressed. Some of the challenges of AI include:\n",
      "\n",
      "1. Data quality: AI relies on high-quality data to learn and make decisions. However, the quality of data can vary greatly, which can affect the accuracy of AI models.\n",
      "\n",
      "2. Lack of transparency: AI models can be complex and difficult to understand. This can make it challenging to trust the decisions made by AI.\n",
      "\n",
      "3. Job displacement: AI has the potential to displace many jobs, particularly in industries that rely heavily on routine tasks.\n",
      "\n",
      "4. Bias and fairness: AI can be susceptible to bias and can perpetuate existing inequalities. This can have serious consequences, particularly in industries such as healthcare and finance.\n",
      "\n",
      "5. Security and privacy: AI can pose significant security and privacy risks, particularly if sensitive data is being used.\n",
      "\n",
      "how is ai being used in healthcare?\n",
      "\n",
      "AI is being used in healthcare to improve patient outcomes and reduce costs. Some examples of how AI is being used in healthcare include:\n"
     ]
    }
   ],
   "source": [
    "response = llm.predict(query)\n",
    "\n",
    "print(response)"
   ]
  }
 ],
 "metadata": {
  "kernelspec": {
   "display_name": "Python 3",
   "language": "python",
   "name": "python3"
  },
  "language_info": {
   "codemirror_mode": {
    "name": "ipython",
    "version": 3
   },
   "file_extension": ".py",
   "mimetype": "text/x-python",
   "name": "python",
   "nbconvert_exporter": "python",
   "pygments_lexer": "ipython3",
   "version": "3.12.4"
  }
 },
 "nbformat": 4,
 "nbformat_minor": 2
}
