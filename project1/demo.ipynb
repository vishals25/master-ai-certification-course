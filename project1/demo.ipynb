{
 "cells": [
  {
   "cell_type": "code",
   "execution_count": 13,
   "metadata": {},
   "outputs": [],
   "source": [
    "# ! pip install langchain\n",
    "# ! pip install langchain-openai"
   ]
  },
  {
   "cell_type": "code",
   "execution_count": 14,
   "metadata": {},
   "outputs": [],
   "source": [
    "# ! pip install openai\n"
   ]
  },
  {
   "cell_type": "code",
   "execution_count": 15,
   "metadata": {},
   "outputs": [],
   "source": [
    "# import os\n",
    "# os.environ[\"OPENAI_API_KEY\"]=\"\""
   ]
  },
  {
   "cell_type": "code",
   "execution_count": 16,
   "metadata": {},
   "outputs": [],
   "source": [
    "# from langchain_openai import OpenAI"
   ]
  },
  {
   "cell_type": "code",
   "execution_count": 17,
   "metadata": {},
   "outputs": [],
   "source": [
    "# llm=OpenAI(model=\"gpt-3.5-turbo-instruct\")"
   ]
  },
  {
   "cell_type": "code",
   "execution_count": 18,
   "metadata": {},
   "outputs": [],
   "source": [
    "# our_query=\"What is currency of India?\"\n",
    "\n",
    "# complete=llm.invoke(our_query)\n",
    "\n",
    "# print(complete)"
   ]
  },
  {
   "cell_type": "code",
   "execution_count": 19,
   "metadata": {},
   "outputs": [],
   "source": [
    "# ! pip install huggingface-hub"
   ]
  },
  {
   "cell_type": "code",
   "execution_count": 20,
   "metadata": {},
   "outputs": [],
   "source": [
    "import os\n",
    "os.environ[\"HUGGINGFACEHUB_API_TOKEN\"] = os.getenv(\"HUGGINGFACEHUB_API_TOKEN\")"
   ]
  },
  {
   "cell_type": "code",
   "execution_count": 21,
   "metadata": {},
   "outputs": [],
   "source": [
    "# ! pip install langchain_community"
   ]
  },
  {
   "cell_type": "code",
   "execution_count": 22,
   "metadata": {},
   "outputs": [],
   "source": [
    "from langchain.llms import HuggingFaceEndpoint # type: ignore"
   ]
  },
  {
   "cell_type": "code",
   "execution_count": null,
   "metadata": {},
   "outputs": [],
   "source": [
    "llm=HuggingFaceEndpoint(\n",
    "    repo_id=\"mistralai/Mistral-7B-Instruct-v0.3\"\n",
    ")"
   ]
  },
  {
   "cell_type": "code",
   "execution_count": 24,
   "metadata": {},
   "outputs": [
    {
     "name": "stdout",
     "output_type": "stream",
     "text": [
      "\n",
      "\n",
      "The currency of India is the Indian Rupee (INR). The Indian Rupee is divided into 100 paise. Banknotes are issued in denominations of 5, 10, 20, 50, 100, 200, 500 and 2,000 INR. Coins are issued in denominations of 1, 2, 5, 10, 20 and 25 paise and 1, 2, 5 and 10 INR.\n",
      "\n",
      "The Reserve Bank of India (RBI) is the central bank of India, and it is responsible for issuing and managing the currency. The RBI also regulates the banking sector, manages the country's foreign exchange reserves, and promotes financial stability and economic growth in India.\n",
      "\n",
      "India's currency has a rich history, with the first coins made of copper, silver, and gold being used as early as the 6th century BCE. The modern Indian Rupee was introduced in 1835, when the East India Company introduced a standardized currency system in the region. The RBI was established in 1935, and it began issuing its own banknotes in 1949.\n",
      "\n",
      "Today, the Indian Rupee is one of the most widely used currencies in Asia, and it is an important part of the global economy. It is traded on foreign exchange markets around the world, and it is used as a reserve currency by several countries. The Indian Rupee is also widely used by the Indian diaspora living abroad, and it is a popular currency for remittances and international transactions.\n"
     ]
    }
   ],
   "source": [
    "our_query=\"What is the currency of India?\"\n",
    "\n",
    "complete=llm.invoke(our_query)\n",
    "\n",
    "print(complete)"
   ]
  }
 ],
 "metadata": {
  "kernelspec": {
   "display_name": "Python 3",
   "language": "python",
   "name": "python3"
  },
  "language_info": {
   "codemirror_mode": {
    "name": "ipython",
    "version": 3
   },
   "file_extension": ".py",
   "mimetype": "text/x-python",
   "name": "python",
   "nbconvert_exporter": "python",
   "pygments_lexer": "ipython3",
   "version": "3.12.4"
  }
 },
 "nbformat": 4,
 "nbformat_minor": 2
}
