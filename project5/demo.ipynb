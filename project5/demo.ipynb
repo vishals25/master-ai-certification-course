{
 "cells": [
  {
   "cell_type": "code",
   "execution_count": 3,
   "metadata": {},
   "outputs": [],
   "source": [
    "# ! pip install langchain\n",
    "# ! pip install huggingface-hub\n",
    "# ! pip install langchain_community\n",
    "\n",
    "from langchain.llms import HuggingFaceHub\n",
    "\n",
    "import os\n",
    "os.environ[\"HUGGINGFACEHUB_API_TOKEN\"] = os.getenv(\"HUGGINGFACEHUB_API_TOKEN\")"
   ]
  },
  {
   "cell_type": "code",
   "execution_count": 21,
   "metadata": {},
   "outputs": [],
   "source": [
    "llm = HuggingFaceHub(\n",
    "    repo_id=\"google/pegasus-cnn_dailymail\", \n",
    "    model_kwargs={\n",
    "        \"temperature\": 0\n",
    "    }\n",
    ")\n",
    "# facebook/bart-large-cnn"
   ]
  },
  {
   "cell_type": "code",
   "execution_count": 25,
   "metadata": {},
   "outputs": [],
   "source": [
    "user_text=\"\"\"Stars, the luminous celestial bodies that dot the night sky, are among the most captivating wonders of the universe. These radiant orbs of plasma, formed from vast clouds of gas and dust, play a crucial role in the cosmic drama of creation and destruction. Spanning a staggering range of sizes and temperatures, stars exhibit a dazzling array of colors—from the fiery blue-white brilliance of young, massive stars to the cool, red glow of older, smaller stars. Each star's lifecycle is dictated by its mass, with more massive stars burning brightly but brief, while smaller stars, like our Sun, endure for billions of years.At the heart of a star's existence lies the process of nuclear fusion, where immense gravitational pressures and temperatures fuse hydrogen atoms into helium, releasing staggering amounts of energy in the form of light and heat. This process not only fuels the star's radiance but also produces the fundamental elements that form planets, moons, and even life itself. Through this cosmic alchemy, stars forge elements like carbon, oxygen, and iron—building blocks essential for the formation of rocky planets and the organic molecules that underpin life.Stars are not solitary entities but form clusters, galaxies, and galactic structures. The Milky Way, our home galaxy, harbors hundreds of billions of stars, each with its own story of formation and evolution. Within the Milky Way's spiral arms, stellar nurseries give birth to new stars from collapsing gas clouds, while ancient stars, billions of years old, trace the galaxy's history through their compositions and positions.Beyond our galaxy, stars populate the universe in staggering numbers, forming constellations that have guided navigation and storytelling throughout human history. Ancient cultures observed patterns in the stars, attributing mythical significance and celestial narratives to these arrangements. Even today, stars continue to inspire artists, poets, and scientists alike, evoking a sense of awe and wonder at the vastness of the cosmos.Modern astronomy has unveiled the intricacies of stars through telescopes that peer deep into space and across different wavelengths of light. Observations of supernovae, the explosive deaths of massive stars, reveal the dramatic conclusion to stellar lifecycles, scattering heavier elements across space to enrich future generations of stars and planets. Neutron stars and black holes, the remnants of stellar deaths, challenge our understanding of physics in extreme conditions of gravity and density.In recent decades, technological advancements have allowed astronomers to discover exoplanets—worlds orbiting stars beyond our Solar System—offering tantalizing clues about the potential for life elsewhere in the universe. Stars remain central to these investigations, as their characteristics and behaviors shape planetary environments and influence the prospects for habitability.As humanity ventures further into space exploration, stars continue to beckon us toward new frontiers of knowledge and discovery. Whether through robotic probes sent to distant stars or ambitious missions to study exoplanetary atmospheres, our fascination with stars persists as we seek to unravel the mysteries of our cosmic origins and our place in the grand tapestry of the cosmos.In contemplating stars, we are reminded of the interconnectedness of all things—their birth from cosmic clouds, their role in seeding the universe with life's ingredients, and their eventual transformation into the next generation of stellar phenomena. Stars, in their brilliance and diversity, inspire us to explore, to question, and to marvel at the boundless possibilities that lie beyond the horizon of our understanding.\"\"\""
   ]
  },
  {
   "cell_type": "code",
   "execution_count": 26,
   "metadata": {},
   "outputs": [],
   "source": [
    "res=llm.invoke(user_text)"
   ]
  },
  {
   "cell_type": "code",
   "execution_count": 27,
   "metadata": {},
   "outputs": [
    {
     "name": "stdout",
     "output_type": "stream",
     "text": [
      "Stars are not solitary entities but form clusters, galaxies, and galactic structures .<n>The Milky Way, our home galaxy, harbors hundreds of billions of stars, each with its own story of formation and evolution .<n>Stars inspire artists, poets, and scientists alike, evoking a sense of awe and wonder at the vastness of the cosmos .\n"
     ]
    }
   ],
   "source": [
    "print(res)"
   ]
  }
 ],
 "metadata": {
  "kernelspec": {
   "display_name": "Python 3",
   "language": "python",
   "name": "python3"
  },
  "language_info": {
   "codemirror_mode": {
    "name": "ipython",
    "version": 3
   },
   "file_extension": ".py",
   "mimetype": "text/x-python",
   "name": "python",
   "nbconvert_exporter": "python",
   "pygments_lexer": "ipython3",
   "version": "3.12.4"
  }
 },
 "nbformat": 4,
 "nbformat_minor": 2
}
